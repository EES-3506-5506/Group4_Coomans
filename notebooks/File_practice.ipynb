{
 "cells": [
  {
   "cell_type": "code",
   "execution_count": 2,
   "id": "4e8d7932-0839-4417-b3dd-5f7302179b00",
   "metadata": {},
   "outputs": [],
   "source": [
    "from matplotlib import pyplot as plt\n",
    "import numpy as np\n",
    "import pandas as pd\n",
    "import xarray as xr\n",
    "import zarr  # to read in Zarr format\n",
    "import gcsfs # to read google cloud data\n",
    "import momlevel as ml\n",
    "import cftime\n",
    "import cmocean"
   ]
  },
  {
   "cell_type": "code",
   "execution_count": 3,
   "id": "f55cba75-1486-4c92-9ebf-0e99a425ed54",
   "metadata": {},
   "outputs": [],
   "source": [
    "xr.set_options(display_style='html')\n",
    "%matplotlib inline                           \n",
    "%config InlineBackend.figure_format='retina' \n",
    "plt.rcParams['figure.figsize'] = 12,6  "
   ]
  },
  {
   "cell_type": "code",
   "execution_count": 4,
   "id": "58f06005-7f9b-4000-ad22-e97bd72b5244",
   "metadata": {},
   "outputs": [],
   "source": [
    "google_cloud_cmip6 = pd.read_csv('https://storage.googleapis.com/cmip6/cmip6-zarr-consolidated-stores.csv')"
   ]
  },
  {
   "cell_type": "code",
   "execution_count": 9,
   "id": "720feccc-097e-4447-a9db-0a4ae15bb92f",
   "metadata": {},
   "outputs": [],
   "source": [
    "O2_SSP126 = google_cloud_cmip6.query(\n",
    "    \"activity_id=='ScenarioMIP' & \\\n",
    "    table_id == 'Omon' & \\\n",
    "    variable_id == 'o2' & \\\n",
    "    experiment_id == 'ssp126' & \\\n",
    "    institution_id == 'NOAA-GFDL' &  \\\n",
    "    source_id == 'GFDL-ESM4' & \\\n",
    "    grid_label == 'gr' & \\\n",
    "    member_id == 'r1i1p1f1'\"\n",
    ")"
   ]
  },
  {
   "cell_type": "code",
   "execution_count": 11,
   "id": "f5481c39-aba0-47a5-af5f-3d4f343d2fa1",
   "metadata": {},
   "outputs": [],
   "source": [
    "O2_SSP245 = google_cloud_cmip6.query(\n",
    "    \"activity_id=='ScenarioMIP' & \\\n",
    "    table_id == 'Omon' & \\\n",
    "    variable_id == 'o2' & \\\n",
    "    experiment_id == 'ssp245' & \\\n",
    "    institution_id == 'NOAA-GFDL' &  \\\n",
    "    source_id == 'GFDL-ESM4' & \\\n",
    "    grid_label == 'gr' & \\\n",
    "    member_id == 'r1i1p1f1'\"\n",
    ")"
   ]
  },
  {
   "cell_type": "code",
   "execution_count": 13,
   "id": "e24e419b-bf7a-4c29-bb23-d20792824c60",
   "metadata": {},
   "outputs": [],
   "source": [
    "O2_SSP585 = google_cloud_cmip6.query(\n",
    "    \"activity_id=='ScenarioMIP' & \\\n",
    "    table_id == 'Omon' & \\\n",
    "    variable_id == 'o2' & \\\n",
    "    experiment_id == 'ssp585' & \\\n",
    "    institution_id == 'NOAA-GFDL' &  \\\n",
    "    source_id == 'GFDL-ESM4' & \\\n",
    "    grid_label == 'gr' & \\\n",
    "    member_id == 'r1i1p1f1'\"\n",
    ")"
   ]
  },
  {
   "cell_type": "code",
   "execution_count": 10,
   "id": "d684e00b-5dc6-45c8-baff-391307618227",
   "metadata": {},
   "outputs": [
    {
     "data": {
      "text/html": [
       "<div>\n",
       "<style scoped>\n",
       "    .dataframe tbody tr th:only-of-type {\n",
       "        vertical-align: middle;\n",
       "    }\n",
       "\n",
       "    .dataframe tbody tr th {\n",
       "        vertical-align: top;\n",
       "    }\n",
       "\n",
       "    .dataframe thead th {\n",
       "        text-align: right;\n",
       "    }\n",
       "</style>\n",
       "<table border=\"1\" class=\"dataframe\">\n",
       "  <thead>\n",
       "    <tr style=\"text-align: right;\">\n",
       "      <th></th>\n",
       "      <th>activity_id</th>\n",
       "      <th>institution_id</th>\n",
       "      <th>source_id</th>\n",
       "      <th>experiment_id</th>\n",
       "      <th>member_id</th>\n",
       "      <th>table_id</th>\n",
       "      <th>variable_id</th>\n",
       "      <th>grid_label</th>\n",
       "      <th>zstore</th>\n",
       "      <th>dcpp_init_year</th>\n",
       "      <th>version</th>\n",
       "    </tr>\n",
       "  </thead>\n",
       "  <tbody>\n",
       "    <tr>\n",
       "      <th>15681</th>\n",
       "      <td>ScenarioMIP</td>\n",
       "      <td>NOAA-GFDL</td>\n",
       "      <td>GFDL-ESM4</td>\n",
       "      <td>ssp126</td>\n",
       "      <td>r1i1p1f1</td>\n",
       "      <td>Omon</td>\n",
       "      <td>o2</td>\n",
       "      <td>gr</td>\n",
       "      <td>gs://cmip6/CMIP6/ScenarioMIP/NOAA-GFDL/GFDL-ES...</td>\n",
       "      <td>NaN</td>\n",
       "      <td>20180701</td>\n",
       "    </tr>\n",
       "  </tbody>\n",
       "</table>\n",
       "</div>"
      ],
      "text/plain": [
       "       activity_id institution_id  source_id experiment_id member_id table_id  \\\n",
       "15681  ScenarioMIP      NOAA-GFDL  GFDL-ESM4        ssp126  r1i1p1f1     Omon   \n",
       "\n",
       "      variable_id grid_label  \\\n",
       "15681          o2         gr   \n",
       "\n",
       "                                                  zstore  dcpp_init_year  \\\n",
       "15681  gs://cmip6/CMIP6/ScenarioMIP/NOAA-GFDL/GFDL-ES...             NaN   \n",
       "\n",
       "        version  \n",
       "15681  20180701  "
      ]
     },
     "execution_count": 10,
     "metadata": {},
     "output_type": "execute_result"
    }
   ],
   "source": [
    "O2_SSP126"
   ]
  },
  {
   "cell_type": "code",
   "execution_count": 12,
   "id": "b7eb63ae-c230-4640-9a2b-9104264068cd",
   "metadata": {},
   "outputs": [
    {
     "data": {
      "text/html": [
       "<div>\n",
       "<style scoped>\n",
       "    .dataframe tbody tr th:only-of-type {\n",
       "        vertical-align: middle;\n",
       "    }\n",
       "\n",
       "    .dataframe tbody tr th {\n",
       "        vertical-align: top;\n",
       "    }\n",
       "\n",
       "    .dataframe thead th {\n",
       "        text-align: right;\n",
       "    }\n",
       "</style>\n",
       "<table border=\"1\" class=\"dataframe\">\n",
       "  <thead>\n",
       "    <tr style=\"text-align: right;\">\n",
       "      <th></th>\n",
       "      <th>activity_id</th>\n",
       "      <th>institution_id</th>\n",
       "      <th>source_id</th>\n",
       "      <th>experiment_id</th>\n",
       "      <th>member_id</th>\n",
       "      <th>table_id</th>\n",
       "      <th>variable_id</th>\n",
       "      <th>grid_label</th>\n",
       "      <th>zstore</th>\n",
       "      <th>dcpp_init_year</th>\n",
       "      <th>version</th>\n",
       "    </tr>\n",
       "  </thead>\n",
       "  <tbody>\n",
       "    <tr>\n",
       "      <th>15191</th>\n",
       "      <td>ScenarioMIP</td>\n",
       "      <td>NOAA-GFDL</td>\n",
       "      <td>GFDL-ESM4</td>\n",
       "      <td>ssp245</td>\n",
       "      <td>r1i1p1f1</td>\n",
       "      <td>Omon</td>\n",
       "      <td>o2</td>\n",
       "      <td>gr</td>\n",
       "      <td>gs://cmip6/CMIP6/ScenarioMIP/NOAA-GFDL/GFDL-ES...</td>\n",
       "      <td>NaN</td>\n",
       "      <td>20180701</td>\n",
       "    </tr>\n",
       "  </tbody>\n",
       "</table>\n",
       "</div>"
      ],
      "text/plain": [
       "       activity_id institution_id  source_id experiment_id member_id table_id  \\\n",
       "15191  ScenarioMIP      NOAA-GFDL  GFDL-ESM4        ssp245  r1i1p1f1     Omon   \n",
       "\n",
       "      variable_id grid_label  \\\n",
       "15191          o2         gr   \n",
       "\n",
       "                                                  zstore  dcpp_init_year  \\\n",
       "15191  gs://cmip6/CMIP6/ScenarioMIP/NOAA-GFDL/GFDL-ES...             NaN   \n",
       "\n",
       "        version  \n",
       "15191  20180701  "
      ]
     },
     "execution_count": 12,
     "metadata": {},
     "output_type": "execute_result"
    }
   ],
   "source": [
    "O2_SSP245"
   ]
  },
  {
   "cell_type": "code",
   "execution_count": 15,
   "id": "73ec8b4d-850c-49bc-81e9-2ffc0d7fcd01",
   "metadata": {},
   "outputs": [
    {
     "data": {
      "text/html": [
       "<div>\n",
       "<style scoped>\n",
       "    .dataframe tbody tr th:only-of-type {\n",
       "        vertical-align: middle;\n",
       "    }\n",
       "\n",
       "    .dataframe tbody tr th {\n",
       "        vertical-align: top;\n",
       "    }\n",
       "\n",
       "    .dataframe thead th {\n",
       "        text-align: right;\n",
       "    }\n",
       "</style>\n",
       "<table border=\"1\" class=\"dataframe\">\n",
       "  <thead>\n",
       "    <tr style=\"text-align: right;\">\n",
       "      <th></th>\n",
       "      <th>activity_id</th>\n",
       "      <th>institution_id</th>\n",
       "      <th>source_id</th>\n",
       "      <th>experiment_id</th>\n",
       "      <th>member_id</th>\n",
       "      <th>table_id</th>\n",
       "      <th>variable_id</th>\n",
       "      <th>grid_label</th>\n",
       "      <th>zstore</th>\n",
       "      <th>dcpp_init_year</th>\n",
       "      <th>version</th>\n",
       "    </tr>\n",
       "  </thead>\n",
       "  <tbody>\n",
       "    <tr>\n",
       "      <th>11670</th>\n",
       "      <td>ScenarioMIP</td>\n",
       "      <td>NOAA-GFDL</td>\n",
       "      <td>GFDL-ESM4</td>\n",
       "      <td>ssp585</td>\n",
       "      <td>r1i1p1f1</td>\n",
       "      <td>Omon</td>\n",
       "      <td>o2</td>\n",
       "      <td>gr</td>\n",
       "      <td>gs://cmip6/CMIP6/ScenarioMIP/NOAA-GFDL/GFDL-ES...</td>\n",
       "      <td>NaN</td>\n",
       "      <td>20180701</td>\n",
       "    </tr>\n",
       "  </tbody>\n",
       "</table>\n",
       "</div>"
      ],
      "text/plain": [
       "       activity_id institution_id  source_id experiment_id member_id table_id  \\\n",
       "11670  ScenarioMIP      NOAA-GFDL  GFDL-ESM4        ssp585  r1i1p1f1     Omon   \n",
       "\n",
       "      variable_id grid_label  \\\n",
       "11670          o2         gr   \n",
       "\n",
       "                                                  zstore  dcpp_init_year  \\\n",
       "11670  gs://cmip6/CMIP6/ScenarioMIP/NOAA-GFDL/GFDL-ES...             NaN   \n",
       "\n",
       "        version  \n",
       "11670  20180701  "
      ]
     },
     "execution_count": 15,
     "metadata": {},
     "output_type": "execute_result"
    }
   ],
   "source": [
    "O2_SSP585"
   ]
  },
  {
   "cell_type": "code",
   "execution_count": 16,
   "id": "65b2da4c-12aa-4348-901d-70ce72c189ec",
   "metadata": {},
   "outputs": [],
   "source": [
    "o2sat_ssp126 = google_cloud_cmip6.query(\n",
    "    \"activity_id=='ScenarioMIP' & \\\n",
    "    table_id == 'Omon' & \\\n",
    "    variable_id == 'o2sat' & \\\n",
    "    experiment_id == 'ssp126' & \\\n",
    "    institution_id == 'NOAA-GFDL' &  \\\n",
    "    source_id == 'GFDL-ESM4' & \\\n",
    "    grid_label == 'gr' & \\\n",
    "    member_id == 'r1i1p1f1'\"\n",
    ")"
   ]
  },
  {
   "cell_type": "code",
   "execution_count": 17,
   "id": "a65a5818-ad24-4735-b295-28694fbf8f31",
   "metadata": {},
   "outputs": [],
   "source": [
    "o2sat_ssp245 = google_cloud_cmip6.query(\n",
    "    \"activity_id=='ScenarioMIP' & \\\n",
    "    table_id == 'Omon' & \\\n",
    "    variable_id == 'o2sat' & \\\n",
    "    experiment_id == 'ssp245' & \\\n",
    "    institution_id == 'NOAA-GFDL' &  \\\n",
    "    source_id == 'GFDL-ESM4' & \\\n",
    "    grid_label == 'gr' & \\\n",
    "    member_id == 'r1i1p1f1'\"\n",
    ")"
   ]
  },
  {
   "cell_type": "code",
   "execution_count": 18,
   "id": "4bb81337-68d1-4218-a9df-76d415de7ed5",
   "metadata": {},
   "outputs": [],
   "source": [
    "o2sat_ssp585 = google_cloud_cmip6.query(\n",
    "    \"activity_id=='ScenarioMIP' & \\\n",
    "    table_id == 'Omon' & \\\n",
    "    variable_id == 'o2sat' & \\\n",
    "    experiment_id == 'ssp585' & \\\n",
    "    institution_id == 'NOAA-GFDL' &  \\\n",
    "    source_id == 'GFDL-ESM4' & \\\n",
    "    grid_label == 'gr' & \\\n",
    "    member_id == 'r1i1p1f1'\"\n",
    ")"
   ]
  },
  {
   "cell_type": "code",
   "execution_count": 19,
   "id": "7691bb2e-f9f0-4088-9802-2ff2dac5d3cc",
   "metadata": {},
   "outputs": [
    {
     "data": {
      "text/html": [
       "<div>\n",
       "<style scoped>\n",
       "    .dataframe tbody tr th:only-of-type {\n",
       "        vertical-align: middle;\n",
       "    }\n",
       "\n",
       "    .dataframe tbody tr th {\n",
       "        vertical-align: top;\n",
       "    }\n",
       "\n",
       "    .dataframe thead th {\n",
       "        text-align: right;\n",
       "    }\n",
       "</style>\n",
       "<table border=\"1\" class=\"dataframe\">\n",
       "  <thead>\n",
       "    <tr style=\"text-align: right;\">\n",
       "      <th></th>\n",
       "      <th>activity_id</th>\n",
       "      <th>institution_id</th>\n",
       "      <th>source_id</th>\n",
       "      <th>experiment_id</th>\n",
       "      <th>member_id</th>\n",
       "      <th>table_id</th>\n",
       "      <th>variable_id</th>\n",
       "      <th>grid_label</th>\n",
       "      <th>zstore</th>\n",
       "      <th>dcpp_init_year</th>\n",
       "      <th>version</th>\n",
       "    </tr>\n",
       "  </thead>\n",
       "  <tbody>\n",
       "    <tr>\n",
       "      <th>15679</th>\n",
       "      <td>ScenarioMIP</td>\n",
       "      <td>NOAA-GFDL</td>\n",
       "      <td>GFDL-ESM4</td>\n",
       "      <td>ssp126</td>\n",
       "      <td>r1i1p1f1</td>\n",
       "      <td>Omon</td>\n",
       "      <td>o2sat</td>\n",
       "      <td>gr</td>\n",
       "      <td>gs://cmip6/CMIP6/ScenarioMIP/NOAA-GFDL/GFDL-ES...</td>\n",
       "      <td>NaN</td>\n",
       "      <td>20180701</td>\n",
       "    </tr>\n",
       "  </tbody>\n",
       "</table>\n",
       "</div>"
      ],
      "text/plain": [
       "       activity_id institution_id  source_id experiment_id member_id table_id  \\\n",
       "15679  ScenarioMIP      NOAA-GFDL  GFDL-ESM4        ssp126  r1i1p1f1     Omon   \n",
       "\n",
       "      variable_id grid_label  \\\n",
       "15679       o2sat         gr   \n",
       "\n",
       "                                                  zstore  dcpp_init_year  \\\n",
       "15679  gs://cmip6/CMIP6/ScenarioMIP/NOAA-GFDL/GFDL-ES...             NaN   \n",
       "\n",
       "        version  \n",
       "15679  20180701  "
      ]
     },
     "execution_count": 19,
     "metadata": {},
     "output_type": "execute_result"
    }
   ],
   "source": [
    "o2sat_ssp126"
   ]
  },
  {
   "cell_type": "code",
   "execution_count": 20,
   "id": "7f8bee31-4517-41e1-9885-7d15c71a570b",
   "metadata": {},
   "outputs": [
    {
     "data": {
      "text/html": [
       "<div>\n",
       "<style scoped>\n",
       "    .dataframe tbody tr th:only-of-type {\n",
       "        vertical-align: middle;\n",
       "    }\n",
       "\n",
       "    .dataframe tbody tr th {\n",
       "        vertical-align: top;\n",
       "    }\n",
       "\n",
       "    .dataframe thead th {\n",
       "        text-align: right;\n",
       "    }\n",
       "</style>\n",
       "<table border=\"1\" class=\"dataframe\">\n",
       "  <thead>\n",
       "    <tr style=\"text-align: right;\">\n",
       "      <th></th>\n",
       "      <th>activity_id</th>\n",
       "      <th>institution_id</th>\n",
       "      <th>source_id</th>\n",
       "      <th>experiment_id</th>\n",
       "      <th>member_id</th>\n",
       "      <th>table_id</th>\n",
       "      <th>variable_id</th>\n",
       "      <th>grid_label</th>\n",
       "      <th>zstore</th>\n",
       "      <th>dcpp_init_year</th>\n",
       "      <th>version</th>\n",
       "    </tr>\n",
       "  </thead>\n",
       "  <tbody>\n",
       "    <tr>\n",
       "      <th>15189</th>\n",
       "      <td>ScenarioMIP</td>\n",
       "      <td>NOAA-GFDL</td>\n",
       "      <td>GFDL-ESM4</td>\n",
       "      <td>ssp245</td>\n",
       "      <td>r1i1p1f1</td>\n",
       "      <td>Omon</td>\n",
       "      <td>o2sat</td>\n",
       "      <td>gr</td>\n",
       "      <td>gs://cmip6/CMIP6/ScenarioMIP/NOAA-GFDL/GFDL-ES...</td>\n",
       "      <td>NaN</td>\n",
       "      <td>20180701</td>\n",
       "    </tr>\n",
       "  </tbody>\n",
       "</table>\n",
       "</div>"
      ],
      "text/plain": [
       "       activity_id institution_id  source_id experiment_id member_id table_id  \\\n",
       "15189  ScenarioMIP      NOAA-GFDL  GFDL-ESM4        ssp245  r1i1p1f1     Omon   \n",
       "\n",
       "      variable_id grid_label  \\\n",
       "15189       o2sat         gr   \n",
       "\n",
       "                                                  zstore  dcpp_init_year  \\\n",
       "15189  gs://cmip6/CMIP6/ScenarioMIP/NOAA-GFDL/GFDL-ES...             NaN   \n",
       "\n",
       "        version  \n",
       "15189  20180701  "
      ]
     },
     "execution_count": 20,
     "metadata": {},
     "output_type": "execute_result"
    }
   ],
   "source": [
    "o2sat_ssp245"
   ]
  },
  {
   "cell_type": "code",
   "execution_count": 21,
   "id": "adb40997-ff3f-4566-93d2-92cdc4af21bd",
   "metadata": {},
   "outputs": [
    {
     "data": {
      "text/html": [
       "<div>\n",
       "<style scoped>\n",
       "    .dataframe tbody tr th:only-of-type {\n",
       "        vertical-align: middle;\n",
       "    }\n",
       "\n",
       "    .dataframe tbody tr th {\n",
       "        vertical-align: top;\n",
       "    }\n",
       "\n",
       "    .dataframe thead th {\n",
       "        text-align: right;\n",
       "    }\n",
       "</style>\n",
       "<table border=\"1\" class=\"dataframe\">\n",
       "  <thead>\n",
       "    <tr style=\"text-align: right;\">\n",
       "      <th></th>\n",
       "      <th>activity_id</th>\n",
       "      <th>institution_id</th>\n",
       "      <th>source_id</th>\n",
       "      <th>experiment_id</th>\n",
       "      <th>member_id</th>\n",
       "      <th>table_id</th>\n",
       "      <th>variable_id</th>\n",
       "      <th>grid_label</th>\n",
       "      <th>zstore</th>\n",
       "      <th>dcpp_init_year</th>\n",
       "      <th>version</th>\n",
       "    </tr>\n",
       "  </thead>\n",
       "  <tbody>\n",
       "    <tr>\n",
       "      <th>11655</th>\n",
       "      <td>ScenarioMIP</td>\n",
       "      <td>NOAA-GFDL</td>\n",
       "      <td>GFDL-ESM4</td>\n",
       "      <td>ssp585</td>\n",
       "      <td>r1i1p1f1</td>\n",
       "      <td>Omon</td>\n",
       "      <td>o2sat</td>\n",
       "      <td>gr</td>\n",
       "      <td>gs://cmip6/CMIP6/ScenarioMIP/NOAA-GFDL/GFDL-ES...</td>\n",
       "      <td>NaN</td>\n",
       "      <td>20180701</td>\n",
       "    </tr>\n",
       "  </tbody>\n",
       "</table>\n",
       "</div>"
      ],
      "text/plain": [
       "       activity_id institution_id  source_id experiment_id member_id table_id  \\\n",
       "11655  ScenarioMIP      NOAA-GFDL  GFDL-ESM4        ssp585  r1i1p1f1     Omon   \n",
       "\n",
       "      variable_id grid_label  \\\n",
       "11655       o2sat         gr   \n",
       "\n",
       "                                                  zstore  dcpp_init_year  \\\n",
       "11655  gs://cmip6/CMIP6/ScenarioMIP/NOAA-GFDL/GFDL-ES...             NaN   \n",
       "\n",
       "        version  \n",
       "11655  20180701  "
      ]
     },
     "execution_count": 21,
     "metadata": {},
     "output_type": "execute_result"
    }
   ],
   "source": [
    "o2sat_ssp585"
   ]
  },
  {
   "cell_type": "code",
   "execution_count": null,
   "id": "8d41b31d-1d43-44f2-a475-e04a5d05c7d3",
   "metadata": {},
   "outputs": [],
   "source": []
  },
  {
   "cell_type": "code",
   "execution_count": null,
   "id": "17ca280b-c80d-415f-bf3f-43060e433808",
   "metadata": {},
   "outputs": [],
   "source": []
  }
 ],
 "metadata": {
  "kernelspec": {
   "display_name": "Python 3 (ipykernel)",
   "language": "python",
   "name": "python3"
  },
  "language_info": {
   "codemirror_mode": {
    "name": "ipython",
    "version": 3
   },
   "file_extension": ".py",
   "mimetype": "text/x-python",
   "name": "python",
   "nbconvert_exporter": "python",
   "pygments_lexer": "ipython3",
   "version": "3.9.18"
  }
 },
 "nbformat": 4,
 "nbformat_minor": 5
}
